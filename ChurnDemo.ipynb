{
 "cells": [
  {
   "cell_type": "markdown",
   "metadata": {},
   "source": [
    "Author: John Woolley\n",
    "\n",
    "Credit for original idea, calibration and discrimination coefficient code: Eric Chiang"
   ]
  },
  {
   "cell_type": "markdown",
   "metadata": {},
   "source": [
    "# Loading Dataset\n",
    "\n",
    "This data can be found on Kaggle here: https://www.kaggle.com/mnassrib/telecom-churn-datasets"
   ]
  },
  {
   "cell_type": "code",
   "execution_count": 2,
   "metadata": {
    "scrolled": false
   },
   "outputs": [
    {
     "data": {
      "text/html": [
       "<div>\n",
       "<style scoped>\n",
       "    .dataframe tbody tr th:only-of-type {\n",
       "        vertical-align: middle;\n",
       "    }\n",
       "\n",
       "    .dataframe tbody tr th {\n",
       "        vertical-align: top;\n",
       "    }\n",
       "\n",
       "    .dataframe thead th {\n",
       "        text-align: right;\n",
       "    }\n",
       "</style>\n",
       "<table border=\"1\" class=\"dataframe\">\n",
       "  <thead>\n",
       "    <tr style=\"text-align: right;\">\n",
       "      <th></th>\n",
       "      <th>0</th>\n",
       "      <th>1</th>\n",
       "      <th>2</th>\n",
       "      <th>3</th>\n",
       "      <th>4</th>\n",
       "      <th>type</th>\n",
       "    </tr>\n",
       "  </thead>\n",
       "  <tbody>\n",
       "    <tr>\n",
       "      <th>State</th>\n",
       "      <td>KS</td>\n",
       "      <td>OH</td>\n",
       "      <td>NJ</td>\n",
       "      <td>OH</td>\n",
       "      <td>OK</td>\n",
       "      <td>object</td>\n",
       "    </tr>\n",
       "    <tr>\n",
       "      <th>Account length</th>\n",
       "      <td>128</td>\n",
       "      <td>107</td>\n",
       "      <td>137</td>\n",
       "      <td>84</td>\n",
       "      <td>75</td>\n",
       "      <td>int64</td>\n",
       "    </tr>\n",
       "    <tr>\n",
       "      <th>Area code</th>\n",
       "      <td>415</td>\n",
       "      <td>415</td>\n",
       "      <td>415</td>\n",
       "      <td>408</td>\n",
       "      <td>415</td>\n",
       "      <td>int64</td>\n",
       "    </tr>\n",
       "    <tr>\n",
       "      <th>International plan</th>\n",
       "      <td>No</td>\n",
       "      <td>No</td>\n",
       "      <td>No</td>\n",
       "      <td>Yes</td>\n",
       "      <td>Yes</td>\n",
       "      <td>object</td>\n",
       "    </tr>\n",
       "    <tr>\n",
       "      <th>Voice mail plan</th>\n",
       "      <td>Yes</td>\n",
       "      <td>Yes</td>\n",
       "      <td>No</td>\n",
       "      <td>No</td>\n",
       "      <td>No</td>\n",
       "      <td>object</td>\n",
       "    </tr>\n",
       "    <tr>\n",
       "      <th>Number vmail messages</th>\n",
       "      <td>25</td>\n",
       "      <td>26</td>\n",
       "      <td>0</td>\n",
       "      <td>0</td>\n",
       "      <td>0</td>\n",
       "      <td>int64</td>\n",
       "    </tr>\n",
       "    <tr>\n",
       "      <th>Total day minutes</th>\n",
       "      <td>265.1</td>\n",
       "      <td>161.6</td>\n",
       "      <td>243.4</td>\n",
       "      <td>299.4</td>\n",
       "      <td>166.7</td>\n",
       "      <td>float64</td>\n",
       "    </tr>\n",
       "    <tr>\n",
       "      <th>Total day calls</th>\n",
       "      <td>110</td>\n",
       "      <td>123</td>\n",
       "      <td>114</td>\n",
       "      <td>71</td>\n",
       "      <td>113</td>\n",
       "      <td>int64</td>\n",
       "    </tr>\n",
       "    <tr>\n",
       "      <th>Total day charge</th>\n",
       "      <td>45.07</td>\n",
       "      <td>27.47</td>\n",
       "      <td>41.38</td>\n",
       "      <td>50.9</td>\n",
       "      <td>28.34</td>\n",
       "      <td>float64</td>\n",
       "    </tr>\n",
       "    <tr>\n",
       "      <th>Total eve minutes</th>\n",
       "      <td>197.4</td>\n",
       "      <td>195.5</td>\n",
       "      <td>121.2</td>\n",
       "      <td>61.9</td>\n",
       "      <td>148.3</td>\n",
       "      <td>float64</td>\n",
       "    </tr>\n",
       "    <tr>\n",
       "      <th>Total eve calls</th>\n",
       "      <td>99</td>\n",
       "      <td>103</td>\n",
       "      <td>110</td>\n",
       "      <td>88</td>\n",
       "      <td>122</td>\n",
       "      <td>int64</td>\n",
       "    </tr>\n",
       "    <tr>\n",
       "      <th>Total eve charge</th>\n",
       "      <td>16.78</td>\n",
       "      <td>16.62</td>\n",
       "      <td>10.3</td>\n",
       "      <td>5.26</td>\n",
       "      <td>12.61</td>\n",
       "      <td>float64</td>\n",
       "    </tr>\n",
       "    <tr>\n",
       "      <th>Total night minutes</th>\n",
       "      <td>244.7</td>\n",
       "      <td>254.4</td>\n",
       "      <td>162.6</td>\n",
       "      <td>196.9</td>\n",
       "      <td>186.9</td>\n",
       "      <td>float64</td>\n",
       "    </tr>\n",
       "    <tr>\n",
       "      <th>Total night calls</th>\n",
       "      <td>91</td>\n",
       "      <td>103</td>\n",
       "      <td>104</td>\n",
       "      <td>89</td>\n",
       "      <td>121</td>\n",
       "      <td>int64</td>\n",
       "    </tr>\n",
       "    <tr>\n",
       "      <th>Total night charge</th>\n",
       "      <td>11.01</td>\n",
       "      <td>11.45</td>\n",
       "      <td>7.32</td>\n",
       "      <td>8.86</td>\n",
       "      <td>8.41</td>\n",
       "      <td>float64</td>\n",
       "    </tr>\n",
       "    <tr>\n",
       "      <th>Total intl minutes</th>\n",
       "      <td>10</td>\n",
       "      <td>13.7</td>\n",
       "      <td>12.2</td>\n",
       "      <td>6.6</td>\n",
       "      <td>10.1</td>\n",
       "      <td>float64</td>\n",
       "    </tr>\n",
       "    <tr>\n",
       "      <th>Total intl calls</th>\n",
       "      <td>3</td>\n",
       "      <td>3</td>\n",
       "      <td>5</td>\n",
       "      <td>7</td>\n",
       "      <td>3</td>\n",
       "      <td>int64</td>\n",
       "    </tr>\n",
       "    <tr>\n",
       "      <th>Total intl charge</th>\n",
       "      <td>2.7</td>\n",
       "      <td>3.7</td>\n",
       "      <td>3.29</td>\n",
       "      <td>1.78</td>\n",
       "      <td>2.73</td>\n",
       "      <td>float64</td>\n",
       "    </tr>\n",
       "    <tr>\n",
       "      <th>Customer service calls</th>\n",
       "      <td>1</td>\n",
       "      <td>1</td>\n",
       "      <td>0</td>\n",
       "      <td>2</td>\n",
       "      <td>3</td>\n",
       "      <td>int64</td>\n",
       "    </tr>\n",
       "    <tr>\n",
       "      <th>Churn</th>\n",
       "      <td>False</td>\n",
       "      <td>False</td>\n",
       "      <td>False</td>\n",
       "      <td>False</td>\n",
       "      <td>False</td>\n",
       "      <td>bool</td>\n",
       "    </tr>\n",
       "  </tbody>\n",
       "</table>\n",
       "</div>"
      ],
      "text/plain": [
       "                            0      1      2      3      4     type\n",
       "State                      KS     OH     NJ     OH     OK   object\n",
       "Account length            128    107    137     84     75    int64\n",
       "Area code                 415    415    415    408    415    int64\n",
       "International plan         No     No     No    Yes    Yes   object\n",
       "Voice mail plan           Yes    Yes     No     No     No   object\n",
       "Number vmail messages      25     26      0      0      0    int64\n",
       "Total day minutes       265.1  161.6  243.4  299.4  166.7  float64\n",
       "Total day calls           110    123    114     71    113    int64\n",
       "Total day charge        45.07  27.47  41.38   50.9  28.34  float64\n",
       "Total eve minutes       197.4  195.5  121.2   61.9  148.3  float64\n",
       "Total eve calls            99    103    110     88    122    int64\n",
       "Total eve charge        16.78  16.62   10.3   5.26  12.61  float64\n",
       "Total night minutes     244.7  254.4  162.6  196.9  186.9  float64\n",
       "Total night calls          91    103    104     89    121    int64\n",
       "Total night charge      11.01  11.45   7.32   8.86   8.41  float64\n",
       "Total intl minutes         10   13.7   12.2    6.6   10.1  float64\n",
       "Total intl calls            3      3      5      7      3    int64\n",
       "Total intl charge         2.7    3.7   3.29   1.78   2.73  float64\n",
       "Customer service calls      1      1      0      2      3    int64\n",
       "Churn                   False  False  False  False  False     bool"
      ]
     },
     "execution_count": 2,
     "metadata": {},
     "output_type": "execute_result"
    }
   ],
   "source": [
    "import pandas as pd\n",
    "churn80 = pd.read_csv('churn-bigml-80.csv')\n",
    "churn20 = pd.read_csv('churn-bigml-20.csv')\n",
    "df = churn80.head().T\n",
    "df['type'] = churn80.dtypes\n",
    "df"
   ]
  },
  {
   "cell_type": "markdown",
   "metadata": {},
   "source": [
    "# Preprocessing data"
   ]
  },
  {
   "cell_type": "code",
   "execution_count": 3,
   "metadata": {},
   "outputs": [
    {
     "name": "stdout",
     "output_type": "stream",
     "text": [
      "Feature space holds 2666 obs and 17 features\n",
      "Unique target labels: [0 1]\n"
     ]
    }
   ],
   "source": [
    "import numpy as np\n",
    "from sklearn.preprocessing import StandardScaler\n",
    "# Isolate target variable\n",
    "churn_result = churn80['Churn']\n",
    "y = np.where(churn_result == True, 1, 0)\n",
    "# Drop unnecessary columns\n",
    "to_drop = ['State', 'Area code', 'Churn']\n",
    "churn_feat_space = churn80.drop(to_drop, axis=1)\n",
    "# Convert yes/no strings to bools\n",
    "yes_no_cols = ['International plan', 'Voice mail plan']\n",
    "churn_feat_space[yes_no_cols] = churn_feat_space[yes_no_cols] == 'Yes'\n",
    "# Convert to numpy array and use sklearn scaler\n",
    "X = churn_feat_space.values.astype(np.float)\n",
    "scaler = StandardScaler()\n",
    "X = scaler.fit_transform(X)\n",
    "print(\"Feature space holds {} obs and {} features\".format(X.shape[0], X.shape[1]))\n",
    "print( \"Unique target labels: {}\".format(np.unique(y)))"
   ]
  },
  {
   "cell_type": "markdown",
   "metadata": {},
   "source": [
    "# Define K-fold CV Prediction Function"
   ]
  },
  {
   "cell_type": "code",
   "execution_count": 4,
   "metadata": {},
   "outputs": [],
   "source": [
    "from sklearn.model_selection import KFold\n",
    "\n",
    "def run_cv(X, y, clf_class, **kwargs):\n",
    "    kf = KFold(n_splits=5, shuffle=True)\n",
    "    y_pred = y.copy()\n",
    "    for train_index, cv_index in kf.split(X):\n",
    "        X_train, X_cv = X[train_index], X[cv_index]\n",
    "        y_train = y[train_index]\n",
    "        clf = clf_class(**kwargs)\n",
    "        clf.fit(X_train, y_train)\n",
    "        y_pred[cv_index] = clf.predict(X_cv)\n",
    "    return y_pred"
   ]
  },
  {
   "cell_type": "markdown",
   "metadata": {},
   "source": [
    "# Measuring Accuracy"
   ]
  },
  {
   "cell_type": "code",
   "execution_count": 5,
   "metadata": {},
   "outputs": [
    {
     "name": "stdout",
     "output_type": "stream",
     "text": [
      "Support Vector Machine: 0.9122280570142536\n",
      "Random Forest: 0.9508627156789198\n",
      "K-nearest Neighbors: 0.8897224306076519\n"
     ]
    }
   ],
   "source": [
    "np.random.seed(0)\n",
    "from sklearn.svm import SVC\n",
    "from sklearn.ensemble import RandomForestClassifier as RF\n",
    "from sklearn.neighbors import KNeighborsClassifier as KNN\n",
    "\n",
    "def accuracy(y_true, y_pred):\n",
    "    return np.mean(y_true == y_pred)\n",
    "\n",
    "SVC_pred = run_cv(X,y,SVC)\n",
    "RF_pred = run_cv(X,y,RF)\n",
    "KNN_pred = run_cv(X,y,KNN)\n",
    "print('Support Vector Machine: {}'.format(accuracy(y, SVC_pred)))\n",
    "print('Random Forest: {}'.format(accuracy(y, RF_pred)))\n",
    "print('K-nearest Neighbors: {}'.format(accuracy(y, KNN_pred)))"
   ]
  },
  {
   "cell_type": "markdown",
   "metadata": {},
   "source": [
    "# Measuring Precision and Recall"
   ]
  },
  {
   "cell_type": "code",
   "execution_count": 6,
   "metadata": {},
   "outputs": [
    {
     "name": "stdout",
     "output_type": "stream",
     "text": [
      "SVM\n",
      "Precision: 0.8811881188118812\n",
      "Recall: 0.4587628865979381\n",
      "\n",
      "RF\n",
      "Precision: 0.9326599326599326\n",
      "Recall: 0.7139175257731959\n",
      "\n",
      "KNN\n",
      "Precision: 0.7732558139534884\n",
      "Recall: 0.3427835051546392\n",
      "\n"
     ]
    }
   ],
   "source": [
    "from sklearn.metrics import confusion_matrix\n",
    "from IPython.display import display\n",
    "\n",
    "y = np.array(y)\n",
    "class_names = np.unique(y)\n",
    "\n",
    "confusion_matrices = {\n",
    "    'SVM': confusion_matrix(y, SVC_pred),\n",
    "    'RF': confusion_matrix(y, RF_pred),\n",
    "    'KNN': confusion_matrix(y, KNN_pred)\n",
    "}\n",
    "\n",
    "for k, v in confusion_matrices.items():\n",
    "    print(k)\n",
    "    tn, fp, fn, tp = v.ravel()\n",
    "    print('Precision: {}'.format(tp/(tp+fp)))\n",
    "    print('Recall: {}\\n'.format(tp/(tp+fn)))"
   ]
  },
  {
   "cell_type": "markdown",
   "metadata": {},
   "source": [
    "# Confusion Matrix Visualization"
   ]
  },
  {
   "cell_type": "code",
   "execution_count": 7,
   "metadata": {
    "scrolled": true
   },
   "outputs": [
    {
     "data": {
      "image/png": "[encoded data removed]",
      "text/plain": [
       "<Figure size 720x216 with 3 Axes>"
      ]
     },
     "metadata": {
      "needs_background": "light"
     },
     "output_type": "display_data"
    }
   ],
   "source": [
    "from support.pltsupport import cm_heatmap\n",
    "cm_heatmap(confusion_matrices)"
   ]
  },
  {
   "cell_type": "markdown",
   "metadata": {},
   "source": [
    "# Define K-Fold CV Probability Function"
   ]
  },
  {
   "cell_type": "code",
   "execution_count": 8,
   "metadata": {},
   "outputs": [],
   "source": [
    "np.random.seed(0)\n",
    "def run_prob_cv(X, y, clf_class, **kwargs):\n",
    "    kf = KFold(n_splits=5, shuffle=True)\n",
    "    \n",
    "    for train_index, cv_index in kf.split(X):\n",
    "        y_prob = np.zeros((len(y),))\n",
    "        X_train, X_cv = X[train_index], X[cv_index]\n",
    "        y_train = y[train_index]\n",
    "        clf = clf_class(**kwargs)\n",
    "        clf.fit(X_train, y_train)\n",
    "        try:\n",
    "            y_prob[cv_index] = clf.predict_proba(X_cv)[:, 1]\n",
    "        except AttributeError:\n",
    "            prob_pos = clf.decision_function(X_cv)\n",
    "            y_prob[cv_index] = (prob_pos - prob_pos.min()) / (prob_pos.max() - prob_pos.min())\n",
    "    return y_prob\n",
    "clfs = {'RF': RF, 'SVM':SVC, 'KNN':KNN}\n",
    "probs = {k: run_prob_cv(X, y, v) for k, v in clfs.items()}"
   ]
  },
  {
   "cell_type": "markdown",
   "metadata": {},
   "source": [
    "# Visualization of Calibration"
   ]
  },
  {
   "cell_type": "code",
   "execution_count": 9,
   "metadata": {},
   "outputs": [
    {
     "data": {
      "image/png": "[encoded data removed]",
      "text/plain": [
       "<Figure size 720x720 with 2 Axes>"
      ]
     },
     "metadata": {
      "needs_background": "light"
     },
     "output_type": "display_data"
    }
   ],
   "source": [
    "from support.pltsupport import calibration_plot\n",
    "calibration_plot(y, probs)"
   ]
  },
  {
   "cell_type": "markdown",
   "metadata": {},
   "source": [
    "# Measuring Calibration and Discrimination Numerically"
   ]
  },
  {
   "cell_type": "code",
   "execution_count": 10,
   "metadata": {},
   "outputs": [
    {
     "name": "stdout",
     "output_type": "stream",
     "text": [
      "Note -- Lower calibration is better, higher discrimination is better\n",
      "Support vector machines:\n",
      "  Calibration Error    0.0227\n",
      "  Discrimination       0.0137\n",
      "Random forests:\n",
      "  Calibration Error    0.0167\n",
      "  Discrimination       0.0133\n",
      "K-nearest-neighbors:\n",
      "  Calibration Error    0.0168\n",
      "  Discrimination       0.0063\n"
     ]
    }
   ],
   "source": [
    "np.random.seed(0)\n",
    "from support.churn_measurements import calibration, discrimination\n",
    "def print_measurements(pred_prob):\n",
    "    churn_prob, is_churn = pred_prob, y == 1\n",
    "    print(\"  %-20s %.4f\" % (\"Calibration Error\", calibration(churn_prob,\n",
    "    is_churn)))\n",
    "    print(\"  %-20s %.4f\" % (\"Discrimination\", discrimination(churn_prob,\n",
    "    is_churn)))\n",
    "print(\"Note -- Lower calibration is better, higher discrimination is better\")\n",
    "print(\"Support vector machines:\")\n",
    "print_measurements(run_prob_cv(X,y,SVC))\n",
    "print(\"Random forests:\")\n",
    "print_measurements(run_prob_cv(X,y,RF))\n",
    "print(\"K-nearest-neighbors:\")\n",
    "print_measurements(run_prob_cv(X,y,KNN))"
   ]
  },
  {
   "cell_type": "code",
   "execution_count": null,
   "metadata": {},
   "outputs": [],
   "source": []
  }
 ],
 "metadata": {
  "kernelspec": {
   "display_name": "Python 3",
   "language": "python",
   "name": "python3"
  },
  "language_info": {
   "codemirror_mode": {
    "name": "ipython",
    "version": 3
   },
   "file_extension": ".py",
   "mimetype": "text/x-python",
   "name": "python",
   "nbconvert_exporter": "python",
   "pygments_lexer": "ipython3",
   "version": "3.8.3"
  }
 },
 "nbformat": 4,
 "nbformat_minor": 4
}
